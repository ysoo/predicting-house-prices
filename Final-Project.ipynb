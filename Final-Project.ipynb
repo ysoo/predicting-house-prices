{
 "cells": [
  {
   "cell_type": "markdown",
   "metadata": {},
   "source": [
    "### CS/ECE/ISyE 524  - Introduction to Optimization - Fall 2018"
   ]
  },
  {
   "cell_type": "markdown",
   "metadata": {},
   "source": [
    "# Using Regression to Predict Housing Prices"
   ]
  },
  {
   "cell_type": "markdown",
   "metadata": {},
   "source": [
    "#### Yi Xian Soo (ysoo@wisc.edu) , Taijing Chen (tchen284@wisc.edu)"
   ]
  },
  {
   "cell_type": "markdown",
   "metadata": {},
   "source": [
    "### Table of Contents\n",
    "1. [Introduction](#1.-Introdiction)\n",
    "2. [Mathematical Model](#2.-Mathematical-model)\n",
    "3. [Solution](#3.-Solution)\n",
    "4. [Results and Discussion](#4.-Results-and-discussion)\n",
    "5. [Conclusion](#5.-Conclusion)"
   ]
  },
  {
   "cell_type": "markdown",
   "metadata": {},
   "source": [
    "## 1. Introduction ##\n",
    "The first few sentences should give a quick overview of the entire project. Then, elaborate with a description of the problem that will be solved, a brief history (with [citations](https://en.wikipedia.org/wiki/Citation)) of how the problem came about, why it's important/interesting, and any other interesting facts you'd like to talk about. You should address and explain where the problem data is coming from (research? the internet? synthetically generated?) Also give an outline of the rest of the report.\n",
    "\n",
    "This section should be 300-600 words long, and **should be accessible to a general audience** (don't assume your reader has taken the class!). Feel free to include images if you think it'll be helpful"
   ]
  },
  {
   "cell_type": "markdown",
   "metadata": {},
   "source": [
    "A house is one of the biggest puchase that an average person will make. However, housing prices are determined by a wide variety of factors that are difficult to quantify and aren't at all obvious to the casual observer. In this project, we will attempt to predict housing prices located in Ames, Iowa using regression analysis with regularization. \n",
    "\n",
    "\n",
    "Dean De Cock was a graduate student at the Truman State University and he was looking for a data set that would allow the students in his statistic class to experiment their knowledge on. He required a data set that has a reasonably large number of variables and observations, hence, on his sabbatical leave, he contacted the Ames City Assessor's Office to be given access to city's housing data."
   ]
  },
  {
   "cell_type": "markdown",
   "metadata": {},
   "source": [
    "## 2. Mathematical models\n",
    "\n",
    "In order to predict future housing prices based on the given data, we're going to apply different regression approaches to find the best linear model that determines the relationship between parameters and target housing prices. In this project, we will use $L_{\\infty}$ regularization, $L_1$ regularization, $L_2$ regularization and combinations of them to make the model accurate, robust and fruitful."
   ]
  },
  {
   "cell_type": "markdown",
   "metadata": {},
   "source": [
    "### A. Data Prepocessing\n",
    "The Ames Housing dataset contains 1460 sets of data with 79 labels and corresponding housing prices (the last column). In the given data set, we need to deal with two different types of data: numerical variables and discrete variables. We need to clean the data and convert each feature into linear variables before we can use them.\n",
    "\n",
    "#### a1. Numerical (continuous) variables\n",
    "The followings are the labels containing numerical values:\n",
    "\n",
    "|Label Name |LabelID|Description                                          \n",
    "|-----------|-------|--------------------------------------------------------------\n",
    "|MSSubClass |1      |Identifies the type of dwelling involved in the sale (in numerical from already)\n",
    "|LotFrontage|3      |Linear feet of street connected to the property\n",
    "|LotArea    |4      |Lot size in square feet\n",
    "|YearBuilt  |19     |Original construction date\n",
    "|YearRemodAdd|20    |Remodel date\n",
    "|MasVnrArea |26     |Masonry veneer area in square feet\n",
    "|BsmtFinSF1 |34     |Type 1 finished square feet\n",
    "|BsmtFinSF2 |36     |Type 2 finished square feet\n",
    "|BsmtUnfSF  |37     |Unfinished square feet of basement area\n",
    "|TotalBsmtSF|38     |Total square feet of basement area\n",
    "|1stFlrSF   |43     |First Floor square feet\n",
    "|2ndFlrSF   |44     |Second floor square feet\n",
    "|LowQualFinSF|45    |Low quality finished square feet (all floors)\n",
    "|GrLivArea  |46     |Above grade (ground) living area square feet\n",
    "|BsmtFullBath|47    |Basement full bathrooms\n",
    "|BsmtHalfBath|48    |Basement half bathrooms\n",
    "|FullBath   |49     |Full bathrooms above grade\n",
    "|HalfBath   |50     |Half baths above grade\n",
    "|Bedroom    |51     |Bedrooms above grade (does NOT include basement bedrooms)\n",
    "|Kitchen    |52     |Kitchens above grade\n",
    "|TotRmsAbvGrd|54    |Total rooms above grade (does not include bathrooms)\n",
    "|Fireplaces |56     |Number of fireplaces\n",
    "|GarageYrBlt|59     |Year garage was built\n",
    "|GarageCars |61     |Size of garage in car capacity\n",
    "|GarageArea |62     |Size of garage in square feet\n",
    "|WoodDeckSF |66     |Wood deck area in square feet\n",
    "|OpenPorchSF|67     |Open porch area in square feet\n",
    "|EnclosedPorch|68   |Enclosed porch area in square feet\n",
    "|3SsnPorch  |69     |Three season porch area in square feet\n",
    "|ScreenPorch|70     |Screen porch area in square feet\n",
    "|PoolArea   |71     |Pool area in square feet\n",
    "|MiscVal    |75     |$Value of miscellaneous feature\n",
    "\n",
    "\n",
    "#### a2. Discrete variables\n",
    "To solve the problem by linear programming, we need to use algebra to specify the discrete variables. There are two different discrete data in the Ames Housing dataset. **The first type of discrete variables, despite being discontinuous, only varies in the level of degrees.** For example, consider the following feature of \"LotShape\", which indicates the \"general shape of the property\":\n",
    "\n",
    "|Features |Description |\n",
    "|-----|------------|\n",
    "|REG  |Regular     |\n",
    "|IR1  |Slightly irregular|\n",
    "|IR2  |Moderately irregular|\n",
    "|IR3  |Irregular   |\n",
    "\n",
    "For this types of variables, we will label them by increasing positive integers based on the level of degrees. Specifically,in the example of \"LotShape\", we will set the features to be: $$REG=1, IR1=2, IR2=3, IR3=4$$ This technique will be applied to the following labels: \n",
    "\n",
    "|Label Name |LabelID|Description                                          \n",
    "|-----------|-------|-----------------------------------------------------------------\n",
    "|LotShape   |7      |General shape of property\n",
    "|LandContour|8      |Flatness of the property                             \n",
    "|Utilities  |9      |Type of utilities available\n",
    "|LandSlope  |11     |Slope of the property\n",
    "|BlgType    |15     |Type of dwelling\n",
    "|HouseStyle |16     |Style of dwelling\n",
    "|ExterQual  |27     |Evaluates the quality of the material on the exterior \n",
    "|ExterCond  |28     |Evaluates the present condition of the material on the exterior\n",
    "|BsmtQual   |30     |Evaluates the height of the basement\n",
    "|BsmtCond   |31     |Evaluates the general condition of the basement\n",
    "|BsmtExposure|32    |Refers to walkout or garden level walls\n",
    "|BsmtFinType1|33    |Rating of basement finished area\n",
    "|BsmtFinType2|35    |Rating of basement finished area (if multiple types)\n",
    "|HeatingQC  |40     |Heating quality and condition\n",
    "|KitchenQual|53     |Kitchen quality\n",
    "|Functional |55     |Home Functionality\n",
    "|FireplaceQu|57     |Fireplace quality\n",
    "|GarageType |58     |Garage location\n",
    "|GarageFinish|60    |Interior finish of the garage\n",
    "|GarageQual |63     |Garage quality\n",
    "|GarageCond |64     |Garage condition\n",
    "|PavedDrive |65     |Paved driveway\n",
    "|PoolQC     |72     |Pool quality\n",
    "|Fence      |73     |Fence quality\n",
    "\n",
    "\n",
    "**The second type of discrete variables has no relation of degrees.** The values of these variables are different names of features corresponding to a given lable. For instance, in the example of \"Alley\", i.e., the \"type of alley access to property\", we have:\n",
    "\n",
    "|Features |Description  |\n",
    "|-----|-------------|\n",
    "|Grvl |Gravel       |\n",
    "|Pav  |Paved        |\n",
    "|NA   |No alley access|\n",
    "\n",
    "Since these are distinct features of a given label, it is no longer safe to lable them by increasing integers. To make these discrete variables linear, we need to change each of them into binary variables $1$ and $0$. $1$ means that the given label has this feature, and $0$ means the opposite. If a given lable $l$ has $m$ features, after the transformation, we will have $2^m$ new labels. In the other words, here's the new labels we have:\n",
    "\n",
    "|Labels |Description  |\n",
    "|-----|-------------|\n",
    "|Grvl |has gravel (1) or not (0)\n",
    "|Pav  |paved (1) or not (0)\n",
    "|NA   |no alley access (1) or not (0)\n",
    "\n",
    "This technique will be applied to the following data:\n",
    "\n",
    "|Label Name |LabelID|Description                                          \n",
    "|-----------|-------|-------------------------------------------------------------------\n",
    "|MSZoning   |2      |Identifies the general zoning classification of the sale\n",
    "|Street     |5      |Type of road access to property\n",
    "|Alley      |6      |Type of alley access to property\n",
    "|RoofStyle  |21     |Type of roof\n",
    "|RoofMatl   |22     |Roof material\n",
    "|MasVnrType |25     |Masonry veneer type\n",
    "|Foundation |29     |Type of foundation\n",
    "|Heating    |39     |Type of heating\n",
    "|CentralAir |41     |Central air conditioning\n",
    "|Electrical |42     |Electrical system\n",
    "|MiscFeature|74     |Miscellaneous feature not covered in other categories\n",
    "\n",
    "10lotconfig, 12neighborhood, 13condition1, 14condition2, 23exterior1st, 24exterior2nd, 76Mosold, 77yrsold, 78saletpye, 79salecondition"
   ]
  },
  {
   "cell_type": "markdown",
   "metadata": {},
   "source": [
    "### B. A General Discussion of Linear Regression\n",
    "\n",
    "Define $m =$ number of labels and $n =$ number of datasets. To predict the future housing prices, we can assign different weights to the labels. By doing this, the problem will be modeled by a linear function looks like this: $$\\hat{y}=xw, w \\in \\Re^{m}$$\n",
    "To find the model fits the data, we would like to use different approaches to find a linear function that gives a prediction as close as to the actual value. This is equivalent to solve the following model: \n",
    "$$\n",
    "\\begin{aligned}\n",
    "\\min_{x \\in \\Re^{n*m}} \\quad & \\sum_{i=1}^n difference(y,\\hat{y}) \\\\  \n",
    "s.t. \\quad & \\hat{y}=w^{\\intercal}x + b\n",
    "\\end{aligned}\n",
    "$$\n",
    "\n",
    "A naive approach to this problem is use $L_{\\infty}, L_1,$ and $L_2$ to minimize the difference between predictions and actual values. <br/>\n",
    "Let $w=$weights of each label $\\in\\Re^{m}$; $A=$all datasets $\\in\\Re^{n*m}$; $x_i= i^{th}$ row in A $\\in\\Re^{1*m}$. We have the following optimization models.<br/>\n",
    "<br/>\n",
    "\n",
    "**$L_{\\infty}$ cost**(Minimax/LP), which **equalizes** the solution\n",
    "$$\n",
    "\\begin{aligned}\n",
    "\\min_{w} \\quad & \\max_{w} \\lVert y_i-x_iw-b_i \\rVert \\\\  \n",
    "\\end{aligned}\n",
    "$$\n",
    "standard LP form:\n",
    "$$\n",
    "\\begin{aligned}\n",
    "\\min_{w,t} \\quad & t \\\\  \n",
    "s.t.       \\quad & t \\geq y-x_iw-b_i \\\\\n",
    "           \\quad & t \\geq x_1w+b_i-y\n",
    "\\end{aligned}\n",
    "\\quad\\implies\\quad\n",
    "\\begin{aligned}\n",
    "\\min_{w,t} \\quad & t \\\\  \n",
    "s.t.       \\quad & -t+x_iw+b_i \\leq y \\\\\n",
    "           \\quad & -t-x_iw-b_i \\leq -y\n",
    "\\end{aligned}\n",
    "$$\n",
    "\n",
    "**$L_1$ cost**(Epigraph trick/LP), which **spartifies** the solution\n",
    "$$\n",
    "\\begin{aligned}\n",
    "\\min_{w} \\quad & \\sum_{i=1}^n  \\lVert y_i-x_iw-b_i \\rVert \\\\  \n",
    "\\end{aligned}\n",
    "$$\n",
    "standard LP form:\n",
    "$$\n",
    "\\begin{aligned}\n",
    "\\min_{w,t} \\quad & \\sum_{i=1}^n  t_i \\\\  \n",
    "s.t.       \\quad & t_i \\geq y-x_iw-b_i \\\\\n",
    "           \\quad & t_i \\geq x_iw+b_i-y\n",
    "\\end{aligned}\n",
    "\\quad\\implies\\quad\n",
    "\\begin{aligned}\n",
    "\\min_{w,t} \\quad & \\sum_{i=1}^n  t_i \\\\  \n",
    "s.t.       \\quad & -t_i+x_iw+b_i \\leq y \\\\\n",
    "           \\quad & -t_i-x_iw-b_i \\leq -y\n",
    "\\end{aligned}\n",
    "$$\n",
    "\n",
    "**$L_2$ cost** (Least squares/QP), which **smooths** the solution\n",
    "$$\n",
    "\\begin{aligned}\n",
    "\\min_{w} \\quad & \\lVert y-Aw-b \\rVert^2 \\\\  \n",
    "\\end{aligned}\n",
    "$$\n",
    "\n",
    "However, in reality, we need to deal with outfitting and outliers. A reliable model should be able to cope with different situations and remain robust. An possible solution is using regularization. In the following paragraphs, we will use $L_2$ cost model as an example and discuss about how to make the model robust."
   ]
  },
  {
   "cell_type": "markdown",
   "metadata": {},
   "source": [
    "### Overfitting\n",
    "Even though having various features sounds good for the sake of model training as they provides the models more options to look for, too many features can lead to negative outcomes when it goes to extreme. After knowing the details of the data, the model will sometimes overly pick up the noise and random fluctuations, which may not apply to new data, and generate a complicated function to fit the data. The complicated function can not only slow down the performance of the model, but also results in great error when predicting by new data. Since the problem is caused by the overly-complicated function, a possible solution to counteract this negative impact would be just simplifying the model. To do so, a common approach is to limit the weights $w$ in our model by regularization. Here, we will discuss three common regularization approaches dealing with overfitting in regression."
   ]
  },
  {
   "cell_type": "markdown",
   "metadata": {},
   "source": [
    "#### b1. L2 Regularization (Ridge Regression)\n",
    "To make the model simple, we would prefer wimple weight vector $w$. One way to achieve this goal is to constrain the values of $w$ by regularization. One common approach, Ridge regression, utilizes the features of L2 regularization to simplify the model via smoothing the values of $w$. It is in the following form:\n",
    "\n",
    "$$\n",
    "\\begin{aligned}\n",
    "\\min_{w} \\quad &  \\lVert y-Aw-b \\rVert^2 + \\lambda\\lVert w\\rVert^2 \\\\  \n",
    "\\end{aligned}\n",
    "$$\n",
    "\n",
    "Sometimes, it is also written in a slightly different form:\n",
    "$$\n",
    "\\begin{aligned}\n",
    "\\min_{w}   \\quad & \\lVert y-Aw-b\\rVert^2 \\\\\n",
    "\\text{s.t} \\quad & \\lVert w\\rVert^2 \\leq t\n",
    "\\end{aligned}\n",
    "$$\n",
    "\n",
    "By plotting the feasible region and the objective function, we can observe some features of this type of regression."
   ]
  },
  {
   "cell_type": "code",
   "execution_count": 95,
   "metadata": {},
   "outputs": [
    {
     "data": {
      "image/png": "[encoded data removed]",
      "text/plain": [
       "PyPlot.Figure(PyObject <Figure size 640x480 with 1 Axes>)"
      ]
     },
     "metadata": {},
     "output_type": "display_data"
    }
   ],
   "source": [
    "using PyPlot\n",
    "using PyCall\n",
    "@pyimport matplotlib.patches as patch\n",
    "\n",
    "cfig = figure()\n",
    "ax = cfig[:add_subplot](1,1,1)\n",
    "ax[:set_aspect](\"equal\")\n",
    "c = patch.Circle([0,0],1,linewidth=.5,zorder=0)\n",
    "e1 = patch.Ellipse((2.1, 2), 4, 2, 30, fill=false)\n",
    "e2 = patch.Ellipse((2.1, 2), 3, 1.5, 30, fill=false)\n",
    "e3 = patch.Ellipse((2.1, 2), 2, 1, 30, fill=false)\n",
    "ax[:add_artist](c)\n",
    "ax[:add_artist](e1)\n",
    "ax[:add_artist](e2)\n",
    "ax[:add_artist](e3)\n",
    "plot(0.56, 0.83, \"r.\")\n",
    "plot(2.1, 2, \"m.\")\n",
    "xlim(-2, 5)\n",
    "ylim(-2, 5)\n",
    "title(\"L2 (Ridge) Regression\")\n",
    ";"
   ]
  },
  {
   "cell_type": "markdown",
   "metadata": {},
   "source": [
    "The blue region is the feasible region, and the ellipse-shaped lines are the objective contours. The ridge estimate is given by the point at which the ellipse and the circle touch. As we can see, the optimal point occurs on the edge of the circle. Since there is no corner point for the circle, the weight vector $w$ we get would unlikely contain entry of value 0. Therefore, this regularization approach tend to be more useful when most labels are useful. blueThis is the main difference from the next model we are goint to discuss about: the L1 (Lasso) Regression.  "
   ]
  },
  {
   "cell_type": "markdown",
   "metadata": {},
   "source": [
    "#### b2. L1 Regularization (Lasso Regression)\n",
    "As mentioned previously, if we use the L2 (Ridge) regression, the weight vector $w$ is unlikely to go zero. However, in the given dataset, there are 79 labels. Not all of them have effect on the housing price. In these cases, to assign zero weight to these label may be a better option. One applicable method is that before regression, we can plot the correlation matrix between labels and the housing prices, and eliminate the labels if their correlation is too low. However, this requires us to manually discard the labels that we do not want to use.\n",
    "A better method that automate this process is the Lasso regression which incoperate L1 regularization:\n",
    "\n",
    "$$\n",
    "\\begin{aligned}\n",
    "\\min_{w} \\quad & \\lVert y-Aw-b\\rVert^2 + \\lambda\\sum_{i=1}^n\\lVert w_i\\rVert \\\\  \n",
    "\\end{aligned}\n",
    "$$\n",
    "\n",
    "It can be written in this form as well:\n",
    "\n",
    "$$\n",
    "\\begin{aligned}\n",
    "\\min_{w} \\quad & \\lVert y-Aw-b \\rVert^2 \\\\\n",
    "\\text{s.t.} \\quad & \\sum_{i=1}^n\\lVert w_i\\rVert \\leq t\n",
    "\\end{aligned}\n",
    "$$\n",
    "\n",
    "Because this approach uses the L1 regularization, as discussed previously, the values of $w$ obtained will tend to be sparse. As a result, this regularizaiton simplify $w$ by generating as many zero entries as possible. By plotting the feasible region and the objective function, we can observe some other features of L1 regularization as well:\n"
   ]
  },
  {
   "cell_type": "code",
   "execution_count": 96,
   "metadata": {},
   "outputs": [
    {
     "data": {
      "image/png": "[encoded data removed]",
      "text/plain": [
       "PyPlot.Figure(PyObject <Figure size 640x480 with 1 Axes>)"
      ]
     },
     "metadata": {},
     "output_type": "display_data"
    }
   ],
   "source": [
    "using PyPlot\n",
    "using PyCall\n",
    "@pyimport matplotlib.patches as patch\n",
    "\n",
    "cfig = figure()\n",
    "ax = cfig[:add_subplot](1,1,1)\n",
    "ax[:set_aspect](\"equal\")\n",
    "r = patch.Polygon([(0,1), (1,0), (0,-1), (-1,0)])\n",
    "e1 = patch.Ellipse((1.4, 2.45), 4, 2, 45, fill=false)\n",
    "e2 = patch.Ellipse((1.4, 2.45), 3, 1.5, 45, fill=false)\n",
    "e3 = patch.Ellipse((1.4, 2.45), 2, 1, 45, fill=false)\n",
    "ax[:add_artist](r)\n",
    "ax[:add_artist](e1)\n",
    "ax[:add_artist](e2)\n",
    "ax[:add_artist](e3)\n",
    "plot(0, 1, \"r.\")\n",
    "plot(1.4, 2.45, \"m.\")\n",
    "xlim(-2, 5)\n",
    "ylim(-2, 5)\n",
    "title(\"L2 (Ridge) Regression\")\n",
    ";"
   ]
  },
  {
   "cell_type": "markdown",
   "metadata": {},
   "source": [
    "Again, the blue region is the feasible region, and the ellipse-shaped lines are the objective contours. Unlike the graph for L2 regularization, the optimal points always occur at the corner of the feasible region, which means that the entries in weight vector $w$ can go to zero. Therefore, the L2 regularization can eliminate useless variables. Compared with L1 regularization, tt is more powerful when there're lots of useless variables."
   ]
  },
  {
   "cell_type": "markdown",
   "metadata": {},
   "source": [
    "#### b3. Combination of L1 Regularization & L2 Regularization\n",
    "Because both L1 regularization & L2 regularization have their strengths and weaknesses, we can get a better model if we conbime them together:\n",
    "\n",
    "$$\n",
    "\\begin{aligned}\n",
    "\\min_{w} \\quad &  \\lVert y-Aw-b\\rVert^2 + \\lambda\\lVert w\\rVert^2 + \\mu\\sum_{i=1}^n\\lVert w_i\\rVert \\\\  \n",
    "\\end{aligned} \\\\\n",
    "\\lambda\\lVert w\\rVert^2 \\implies \\quad \\text{smooth } w \\\\\n",
    "\\sum_{i=1}^n\\lVert w_i\\rVert \\implies \\quad \\text{sparsify } w \n",
    "$$\n"
   ]
  },
  {
   "cell_type": "markdown",
   "metadata": {},
   "source": [
    "#### b4. Robust Regresssion using Huber Loss\n",
    "Since there are 1460 sets of data, this datasets may contains much noise. Ideally, to clean the data, we can plot the data and remove the outliers manually. However, due to large number of data and labels, it is not realistic to do so. To make the model robust, we will apply the Huber Loss to our model so that the outliers can be excluded automatically. Here is the formula fro the Huber Loss: \n",
    "\n",
    "$$\n",
    "\\begin{aligned}\n",
    "\\Phi(x) &= \n",
    "    \\begin{cases}\n",
    "     x^2    &\\text{if} -M \\leq x \\leq M \\\\\n",
    "     2M\\lvert x \\rvert -M^2 &\\text{otherwise} \n",
    "    \\end{cases} \\\\\n",
    "    &\\text{,where M determines where to transit from linear to quadratic}\n",
    "\\end{aligned}\n",
    "$$\n",
    "\n",
    "To make such loss function appliable to the solver, we will use the following convex QP form instead:\n",
    "\n",
    "$$\n",
    "\\begin{aligned}\n",
    "\\Phi(x) = \n",
    "    \\begin{cases}\n",
    "    \\min_{v,w}  &w^2+2Mv \\\\\n",
    "    \\text{s.t.} &\\lvert x \\rvert \\leq w+v \\\\\n",
    "                &v \\geq 0 \\\\\n",
    "                &w \\leq M\n",
    "    \\end{cases}\n",
    "\\end{aligned}\n",
    "$$\n",
    "\n",
    "The objective function of regression using the Huber Loss will be:\n",
    "\n",
    "$$\n",
    "\\sum_{i=1}^{n} \\Phi(y_i-ax_i-b)\n",
    "$$\n",
    "\n",
    "Here are the models we will get after combining the Huber Loss and different regularizations. <br/>\n",
    "\n",
    "**Ridge Regression + Huber Loss**:\n",
    "$$\n",
    "\\begin{aligned}\n",
    "    \\min_{w} \\quad &  \\sum_{i=1}^{n} \\Phi(y_i-x_iw-b) + \\lambda\\lVert w\\rVert^2 \\\\  \n",
    "\\end{aligned}\n",
    "$$\n",
    "\n",
    "**Lasso Regression + Huber Loss**:\n",
    "$$\n",
    "\\begin{aligned}\n",
    "    \\min_{w} \\quad & \\sum_{i=1}^{n} \\Phi(y_i-x_iw-b) + \\lambda\\sum_{i=1}^n\\lVert w_i\\rVert \\\\  \n",
    "\\end{aligned}\n",
    "$$\n",
    "\n",
    "**L1 + L2 + Huber Loss**:\n",
    "$$\n",
    "\\begin{aligned}\n",
    "\\min_{w} \\quad &  \\sum_{i=1}^{n} \\Phi(y_i-x_iw-b) + \\lambda\\lVert w\\rVert^2 + \\mu\\sum_{i=1}^n\\lVert w_i\\rVert \\\\  \n",
    "\\end{aligned}\n",
    "$$"
   ]
  },
  {
   "cell_type": "markdown",
   "metadata": {},
   "source": [
    "### C. A Discussion on Trade-off"
   ]
  },
  {
   "cell_type": "markdown",
   "metadata": {},
   "source": [
    "## 3. Solution ##\n",
    "Here, you should code up your model in Julia + JuMP and solve it. Your code should be clean, easy to read, well annotated and commented, and it should compile! You are not allowed to use other programming languages or DCP packages such as `convex.jl`. **I will be running your code**. I suggest having multiple code blocks separated by text blocks that explain the various parts of your solution. You may also solve several versions of your problem with different models/assumptions."
   ]
  },
  {
   "cell_type": "code",
   "execution_count": 5,
   "metadata": {
    "collapsed": true
   },
   "outputs": [],
   "source": [
    "using JuMP, NamedArrays\n",
    "data = readcsv(\"test.csv\");\n",
    "(m, n) = size(data);\n",
    "\n",
    "function encode(array, name)\n",
    "    dictionary = Dict()\n",
    "    l = size(array)\n",
    "    for j = 1: l[1]\n",
    "         dictionary[array[j]] = j\n",
    "    end\n",
    "    \n",
    "    toBeEncoded = data[2:m, name]\n",
    "    \n",
    "    for i = 1:m - 1\n",
    "        curr = toBeEncoded[i]\n",
    "        temp = get(dictionary, curr, 0)\n",
    "        toBeEncoded[i] = temp\n",
    "    end\n",
    "    \n",
    "    data[2:m, name] = toBeEncoded\n",
    "end\n",
    "\n",
    "encode([\"Reg\", \"IR1\", \"IR2\", \"IR3\"], 8);  # LotShape\n",
    "encode([\"Lvl\", \"Bnk\", \"HLS\", \"Low\" ], 9);  # LandContour\n",
    "encode([\"AllPub\", \"NoSewr\", \"NoSeWa\", \"ELO\"], 10); # Utilities\n",
    "encode([\"Gtl\", \"Mod\", \"Sev\"], 12); # LandSlope\n",
    "encode([\"1Fam\", \"2fmCon\", \"Duplex\", \"TwnhsE\", \"Twnhs\"], 16); # BldgType\n",
    "encode([\"1Story\", \"1.5Fin\", \"1.5Unf\",\"2Story\",\"2.5Fin\", \"2.5Unf\", \"SFoyer\", \"SLvl\"], 17) #HouseStyle\n",
    "encode([\"Po\", \"Fa\", \"TA\", \"Gd\", \"Ex\"], 28) # ExterQual\n",
    "encode([\"Po\", \"Fa\", \"TA\", \"Gd\", \"Ex\"], 29) # ExterCond\n",
    "encode([\"Po\", \"Fa\", \"TA\", \"Gd\", \"Ex\"], 31) # BsmtQual\n",
    "encode([\"Po\", \"Fa\", \"TA\", \"Gd\", \"Ex\"], 32) # BsmtCond\n",
    "encode([\"No\", \"Mn\", \"Av\", \"Gd\"], 33) # BsmtExposure\n",
    "encode([\"Unf\", \"LwQ\", \"Rec\", \"BLQ\", \"ALQ\", \"GLQ\"], 34) # BsmtFinType1\n",
    "encode([\"Unf\", \"LwQ\", \"Rec\", \"BLQ\", \"ALQ\", \"GLQ\"], 36) # BsmtFinType2\n",
    "encode([\"Po\", \"Fa\", \"TA\", \"Gd\", \"Ex\"], 41) # HeatingQC\n",
    "encode([\"Po\", \"Fa\", \"TA\", \"Gd\", \"Ex\"], 54) # KitchenQual\n",
    "encode([\"Sal\", \"Sev\", \"Maj2\", \"Maj1\", \"Mod\", \"Min2\", \"Min1\", \"Typ\"], 56) # Functional\n",
    "encode([\"Po\", \"Fa\", \"TA\", \"Gd\", \"Ex\"], 58) # FireplaceQuality\n",
    "encode([\"Detchd\", \"CarPort\", \"BuiltIn\", \"Basment\", \"Attchd\", \"2Types\"], 59) # GarageType\n",
    "encode([\"Unf\", \"RFn\", \"Fin\"], 61) # GarageFinish\n",
    "encode([\"Po\", \"Fa\", \"TA\", \"Gd\", \"Ex\"], 64) # GarageQuality\n",
    "encode([\"Po\", \"Fa\", \"TA\", \"Gd\", \"Ex\"], 65) # GarageCond\n",
    "encode([\"N\", \"P\", \"Y\"], 66) # PavedDrive\n",
    "encode([\"Fa\", \"TA\", \"Gd\", \"Ex\"], 73) # PoolQC\n",
    "encode([\"MnWw\", \"GdWo\", \"MnPrv\", \"GdPrv\"], 74) # Fence\n",
    "\n",
    "writecsv(\"test1.csv\", data)"
   ]
  },
  {
   "cell_type": "markdown",
   "metadata": {},
   "source": [
    "## 4. Results and discussion ##\n",
    "Here, you display and discuss the results. Show figures, plots, images, trade-off curves, or whatever else you can think of to best illustrate your results. The discussion should explain what the results mean, and how to interpret them. You should also explain the limitations of your approach/model and how sensitive your results are to the assumptions you made."
   ]
  },
  {
   "cell_type": "markdown",
   "metadata": {},
   "source": [
    "## 5. Conclusion ##\n",
    "Summarize your findings and your results, and talk about at least one possible future direction; something that might be interesting to pursue as a follow-up to your project."
   ]
  }
 ],
 "metadata": {
  "anaconda-cloud": {},
  "kernelspec": {
   "display_name": "Julia 0.6.4",
   "language": "julia",
   "name": "julia-0.6"
  },
  "language_info": {
   "file_extension": ".jl",
   "mimetype": "application/julia",
   "name": "julia",
   "version": "0.6.4"
  }
 },
 "nbformat": 4,
 "nbformat_minor": 2
}
